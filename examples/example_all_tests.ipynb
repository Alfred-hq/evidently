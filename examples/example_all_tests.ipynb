{
  "nbformat": 4,
  "nbformat_minor": 0,
  "metadata": {
    "colab": {
      "name": "example_tests.ipynb",
      "provenance": [],
      "collapsed_sections": []
    },
    "kernelspec": {
      "name": "python3",
      "display_name": "Python 3"
    },
    "language_info": {
      "name": "python"
    }
  },
  "cells": [
    {
      "cell_type": "code",
      "execution_count": null,
      "metadata": {
        "id": "jn4VjbRSEm8L"
      },
      "outputs": [],
      "source": [
        "try:\n",
        "    import evidently\n",
        "except:\n",
        "    !npm install -g yarn\n",
        "    !pip install git+https://github.com/evidentlyai/evidently.git@test_suite_alpha"
      ]
    },
    {
      "cell_type": "code",
      "source": [
        "!pip install visions"
      ],
      "metadata": {
        "id": "vJ1KxPXpIiUa"
      },
      "execution_count": null,
      "outputs": []
    },
    {
      "cell_type": "markdown",
      "source": [
        "# Data Quality"
      ],
      "metadata": {
        "id": "zGBzUG6ThEU_"
      }
    },
    {
      "cell_type": "code",
      "source": [
        "import pandas as pd\n",
        "import numpy as np\n",
        "\n",
        "from evidently.v2.metrics import DataIntegrityMetrics\n",
        "from evidently.v2.metrics.base_metric import NumberRange, InputData\n",
        "\n",
        "from evidently.v2.test_suite import TestSuite\n",
        "\n",
        "from evidently.v2.tests import TestFeatureValueMin, TestFeatureValueMax, TestFeatureValueMean, \\\n",
        "TestFeatureValueMedian, TestFeatureValueStd,\\\n",
        "TestMeanInNSigmas, TestValueRange, TestNumberOfOutRangeValues, TestShareOfOutRangeValues, TestValueList, \\\n",
        "TestNumberOfOutListValues, TestShareOfOutListValues, TestNumberOfUniqueValues, TestMostCommonValueShare, \\\n",
        "TestUniqueValuesShare"
      ],
      "metadata": {
        "id": "HoDiwl7TLI_U"
      },
      "execution_count": null,
      "outputs": []
    },
    {
      "cell_type": "code",
      "source": [
        "from evidently import ColumnMapping\n",
        "from datetime import datetime\n",
        "from sklearn.datasets import fetch_openml\n",
        "\n",
        "data = fetch_openml(name='adult', version=2, as_frame='auto')\n",
        "df = data.frame\n",
        "\n",
        "ref = df[~df.education.isin(['Some-college', 'HS-grad', 'Bachelors'])]\n",
        "curr = df[df.education.isin(['Some-college', 'HS-grad', 'Bachelors'])]\n",
        "\n",
        "curr.iloc[:2000, 3:5] = np.nan\n",
        "curr.iloc[:2000, 12] = np.nan\n",
        "\n",
        "suite_with_ref = TestSuite(tests=[\n",
        "TestFeatureValueMin(column_name='hours-per-week'),\n",
        "TestFeatureValueMax(column_name='hours-per-week'),\n",
        "TestFeatureValueMean(column_name='hours-per-week'),\n",
        "TestFeatureValueMedian(column_name='hours-per-week'),\n",
        "TestFeatureValueStd(column_name='hours-per-week'),\n",
        "TestMeanInNSigmas(column_name='hours-per-week'),\n",
        "TestValueRange(column_name='hours-per-week'),\n",
        "TestNumberOfOutRangeValues(column_name='hours-per-week'),\n",
        "TestShareOfOutRangeValues(column_name='hours-per-week'),\n",
        "TestValueList(column_name='education'),\n",
        "TestNumberOfOutListValues(column_name='hours-per-week'),\n",
        "TestShareOfOutListValues(column_name='education'),\n",
        "TestNumberOfUniqueValues(column_name='hours-per-week'),\n",
        "TestMostCommonValueShare(column_name='education'),\n",
        "TestUniqueValuesShare(column_name='education')\n",
        "    ])\n",
        "suite_with_ref.run(reference_data=ref,\n",
        "          current_data=curr, column_mapping=ColumnMapping())\n",
        "suite_with_ref"
      ],
      "metadata": {
        "id": "lMozc2f4hJiN"
      },
      "execution_count": null,
      "outputs": []
    },
    {
      "cell_type": "code",
      "source": [
        "suite = TestSuite(tests=[\n",
        "TestFeatureValueMin(column_name='hours-per-week'),\n",
        "TestFeatureValueMax(column_name='hours-per-week'),\n",
        "TestFeatureValueMean(column_name='hours-per-week'),\n",
        "TestFeatureValueMedian(column_name='hours-per-week'),\n",
        "TestFeatureValueStd(column_name='hours-per-week'),\n",
        "# TestMeanInNSigmas(column_name='hours-per-week'),\n",
        "TestValueRange(column_name='hours-per-week', left=7, right=13),\n",
        "TestNumberOfOutRangeValues(column_name='hours-per-week', left=3, right=5),\n",
        "TestShareOfOutRangeValues(column_name='hours-per-week', left=3, right=5),\n",
        "TestValueList(column_name='education', values=['HS-grad', 'Bachelors']),\n",
        "TestNumberOfOutListValues(column_name='hours-per-week', values=['HS-grad', 'Bachelors']),\n",
        "TestShareOfOutListValues(column_name='education', values=['HS-grad', 'Bachelors']),\n",
        "TestNumberOfUniqueValues(column_name='hours-per-week'),\n",
        "TestMostCommonValueShare(column_name='education'),\n",
        "TestUniqueValuesShare(column_name='education')\n",
        "    ])\n",
        "suite.run(reference_data=ref,\n",
        "          current_data=curr, column_mapping=ColumnMapping())\n",
        "suite"
      ],
      "metadata": {
        "id": "6bY8ky-6hShC"
      },
      "execution_count": null,
      "outputs": []
    },
    {
      "cell_type": "markdown",
      "source": [
        "# Data Drift"
      ],
      "metadata": {
        "id": "eTqsXV_chVno"
      }
    },
    {
      "cell_type": "code",
      "source": [
        "import pandas as pd\n",
        "import numpy as np\n",
        "\n",
        "from evidently.v2.metrics import DataIntegrityMetrics\n",
        "from evidently.v2.metrics.base_metric import NumberRange, InputData\n",
        "\n",
        "from evidently.v2.test_suite import TestSuite\n",
        "\n",
        "from evidently.v2.tests import TestShareOfDriftedFeatures, TestFeatureValueDrift, TestNumberOfDriftedFeatures"
      ],
      "metadata": {
        "id": "ODvJ8xdwhXgo"
      },
      "execution_count": null,
      "outputs": []
    },
    {
      "cell_type": "code",
      "source": [
        "from evidently import ColumnMapping\n",
        "from datetime import datetime\n",
        "from sklearn.datasets import fetch_openml\n",
        "\n",
        "data = fetch_openml(name='adult', version=2, as_frame='auto')\n",
        "df = data.frame\n",
        "\n",
        "ref = df[~df.education.isin(['Some-college', 'HS-grad', 'Bachelors'])]\n",
        "curr = df[df.education.isin(['Some-college', 'HS-grad', 'Bachelors'])]\n",
        "\n",
        "curr['target'] = curr['education-num']\n",
        "curr['preds'] = curr['education-num'].values + np.random.normal(0, 6, curr.shape[0])\n",
        "ref['target'] = ref['education-num']\n",
        "ref['preds'] = ref['education-num'].values + np.random.normal(0, 6, ref.shape[0])\n",
        "\n",
        "curr.iloc[:2000, 3:5] = np.nan\n",
        "curr.iloc[:2000, 12] = np.nan\n",
        "\n",
        "suite = TestSuite(tests=[\n",
        "    TestShareOfDriftedFeatures(),\n",
        "    TestNumberOfDriftedFeatures(),\n",
        "    TestFeatureValueDrift(column_name='education-num'),\n",
        "    TestFeatureValueDrift(column_name='education')\n",
        "])\n",
        "\n",
        "suite.run(reference_data=ref,\n",
        "          current_data=curr, column_mapping=ColumnMapping(target='target', prediction='preds'))\n",
        "suite"
      ],
      "metadata": {
        "id": "dM-3lZcThaM_"
      },
      "execution_count": null,
      "outputs": []
    },
    {
      "cell_type": "markdown",
      "source": [
        "# Regression"
      ],
      "metadata": {
        "id": "YYngaSamherk"
      }
    },
    {
      "cell_type": "code",
      "source": [
        "import pandas as pd\n",
        "import numpy as np\n",
        "\n",
        "from evidently.v2.metrics import DataIntegrityMetrics\n",
        "from evidently.v2.metrics.base_metric import NumberRange, InputData\n",
        "\n",
        "from evidently.v2.test_suite import TestSuite\n",
        "\n",
        "from evidently.v2.tests import TestValueMAE, TestValueRMSE, TestValueMeanError, TestValueMAPE, \\\n",
        "TestValueAbsMaxError, TestValueR2Score"
      ],
      "metadata": {
        "id": "cYuWgVhPhfDV"
      },
      "execution_count": null,
      "outputs": []
    },
    {
      "cell_type": "code",
      "source": [
        "from evidently import ColumnMapping\n",
        "from datetime import datetime\n",
        "from sklearn.datasets import fetch_openml\n",
        "\n",
        "data = fetch_openml(name='adult', version=2, as_frame='auto')\n",
        "df = data.frame\n",
        "\n",
        "ref = df[:20000]\n",
        "curr = df[20000:]\n",
        "\n",
        "curr['target'] = curr['education-num']\n",
        "curr['preds'] = curr['education-num'].values + np.random.normal(0, 6, curr.shape[0])\n",
        "ref['target'] = ref['education-num']\n",
        "ref['preds'] = ref['education-num'].values + np.random.normal(0, 6, ref.shape[0])\n",
        "\n",
        "curr.iloc[:2000, 3:5] = np.nan\n",
        "curr.iloc[:2000, 12] = np.nan\n",
        "\n",
        "suite = TestSuite(tests=[\n",
        "    TestValueMAE(),\n",
        "    TestValueRMSE(),\n",
        "    TestValueMeanError(),\n",
        "    TestValueMAPE(),\n",
        "    TestValueAbsMaxError(),\n",
        "    TestValueR2Score()\n",
        "])\n",
        "\n",
        "suite.run(reference_data=ref,\n",
        "          current_data=curr, column_mapping=ColumnMapping(target='target', prediction='preds'))\n",
        "suite"
      ],
      "metadata": {
        "id": "BBTIPLbZhhwH"
      },
      "execution_count": null,
      "outputs": []
    },
    {
      "cell_type": "code",
      "source": [
        "from evidently import ColumnMapping\n",
        "from datetime import datetime\n",
        "from sklearn.datasets import fetch_openml\n",
        "\n",
        "data = fetch_openml(name='adult', version=2, as_frame='auto')\n",
        "df = data.frame\n",
        "\n",
        "ref = df[:20000]\n",
        "curr = df[20000:]\n",
        "\n",
        "curr['target'] = curr['education-num']\n",
        "curr['preds'] = curr['education-num'].values + np.random.normal(0, 6, curr.shape[0])\n",
        "ref['target'] = ref['education-num']\n",
        "ref['preds'] = ref['education-num'].values + np.random.normal(0, 6, ref.shape[0])\n",
        "\n",
        "curr.iloc[:2000, 3:5] = np.nan\n",
        "curr.iloc[:2000, 12] = np.nan\n",
        "\n",
        "suite = TestSuite(tests=[\n",
        "    TestValueMAE(),\n",
        "    TestValueRMSE(),\n",
        "    TestValueMeanError(),\n",
        "    TestValueMAPE(),\n",
        "    TestValueAbsMaxError(),\n",
        "    TestValueR2Score()\n",
        "])\n",
        "\n",
        "suite.run(reference_data=None,\n",
        "          current_data=curr, column_mapping=ColumnMapping(target='target', prediction='preds'))\n",
        "suite"
      ],
      "metadata": {
        "id": "g8j0OsxrhkM9"
      },
      "execution_count": null,
      "outputs": []
    },
    {
      "cell_type": "code",
      "source": [
        ""
      ],
      "metadata": {
        "id": "ohoxis5ljp6s"
      },
      "execution_count": null,
      "outputs": []
    }
  ]
}