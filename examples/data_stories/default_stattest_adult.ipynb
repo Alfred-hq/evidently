{
  "nbformat": 4,
  "nbformat_minor": 0,
  "metadata": {
    "colab": {
      "name": "default_stattest_adult.ipynb",
      "provenance": [],
      "collapsed_sections": [
        "ryB6Y0Uoes4I",
        "vWakwd0Ke3cO",
        "uHd2E4YBfLVI",
        "nvjSRab5fa2O"
      ]
    },
    "kernelspec": {
      "name": "python3",
      "display_name": "Python 3"
    },
    "language_info": {
      "name": "python"
    }
  },
  "cells": [
    {
      "cell_type": "code",
      "source": [
        "import pandas as pd\n",
        "import numpy as np\n",
        "\n",
        "from sklearn.datasets import fetch_openml\n",
        "\n",
        "from evidently import ColumnMapping\n",
        "from evidently.dashboard import Dashboard\n",
        "from evidently.dashboard.tabs import DataDriftTab"
      ],
      "metadata": {
        "id": "T62TSgZPcT-W"
      },
      "execution_count": null,
      "outputs": []
    },
    {
      "cell_type": "code",
      "source": [
        "data = fetch_openml(name='adult', version=2, as_frame='auto')\n",
        "df = data.frame\n",
        "df.head()"
      ],
      "metadata": {
        "id": "HBcdX-kXcgsW"
      },
      "execution_count": null,
      "outputs": []
    },
    {
      "cell_type": "markdown",
      "source": [
        "Let's add two features to illustrate, that we choose stat test depending not just on its type, but also on a number of unique values.\n",
        "\n",
        "Also, we will keep in mind that these features are absolutely random, so we don't expect any drift here."
      ],
      "metadata": {
        "id": "TO8D5GudgODA"
      }
    },
    {
      "cell_type": "code",
      "source": [
        "df['num_feature_with_3_values'] = np.random.choice(3, df.shape[0])\n",
        "df['num_feature_with_2_values'] = np.random.choice(2, df.shape[0])"
      ],
      "metadata": {
        "id": "vPCce_gEc40t"
      },
      "execution_count": null,
      "outputs": []
    },
    {
      "cell_type": "code",
      "source": [
        "numerical_features = ['age', 'fnlwgt', 'education-num', 'capital-gain', 'capital-loss', 'hours-per-week', 'num_feature_with_3_values', 'num_feature_with_2_values']\n",
        "categorical_features = ['workclass', 'education', 'marital-status', 'occupation', 'relationship', 'race', 'sex', 'native-country', 'class']\n",
        "column_mapping = ColumnMapping(numerical_features=numerical_features, categorical_features=categorical_features)"
      ],
      "metadata": {
        "id": "XPsVNk2QdfIk"
      },
      "execution_count": null,
      "outputs": []
    },
    {
      "cell_type": "markdown",
      "source": [
        "## small dataset"
      ],
      "metadata": {
        "id": "glHip93yd7RN"
      }
    },
    {
      "cell_type": "markdown",
      "source": [
        "### no difference"
      ],
      "metadata": {
        "id": "ryB6Y0Uoes4I"
      }
    },
    {
      "cell_type": "markdown",
      "source": [
        "We created 2 small random samples, so we do not expect to see any drift here."
      ],
      "metadata": {
        "id": "pJb4iu7JvhVM"
      }
    },
    {
      "cell_type": "code",
      "source": [
        "data_drift_dashboard = Dashboard(tabs=[DataDriftTab()])\n",
        "data_drift_dashboard.calculate(df.sample(1000, random_state=0), \n",
        "                               df.sample(1000, random_state=10), column_mapping=column_mapping)\n",
        "data_drift_dashboard.show()"
      ],
      "metadata": {
        "id": "S-FEA-d-d0t5"
      },
      "execution_count": null,
      "outputs": []
    },
    {
      "cell_type": "markdown",
      "source": [
        "When you're working with small datasets, it's more likely that you'll get different distributions by chance. But it can also be concluded that statistical tests are quite sensitive."
      ],
      "metadata": {
        "id": "S3YXTnzZvnuH"
      }
    },
    {
      "cell_type": "markdown",
      "source": [
        "### data shifted"
      ],
      "metadata": {
        "id": "vWakwd0Ke3cO"
      }
    },
    {
      "cell_type": "markdown",
      "source": [
        "We split data in 2 samples by relationship status, so we do expect to see some drift here."
      ],
      "metadata": {
        "id": "vUAVikn4zt-t"
      }
    },
    {
      "cell_type": "code",
      "source": [
        "data_drift_dashboard = Dashboard(tabs=[DataDriftTab()])\n",
        "data_drift_dashboard.calculate(df[df.relationship.isin(['Husband', 'Wife'])].sample(1000, random_state=0), \n",
        "                               df[~df.relationship.isin(['Husband', 'Wife'])].sample(1000, random_state=10), column_mapping=column_mapping)\n",
        "data_drift_dashboard.show()"
      ],
      "metadata": {
        "id": "GOryi4xVeJFy"
      },
      "execution_count": null,
      "outputs": []
    },
    {
      "cell_type": "markdown",
      "source": [
        "## big dataset"
      ],
      "metadata": {
        "id": "cYW_LcVWfH4m"
      }
    },
    {
      "cell_type": "markdown",
      "source": [
        "### no difference"
      ],
      "metadata": {
        "id": "uHd2E4YBfLVI"
      }
    },
    {
      "cell_type": "markdown",
      "source": [
        "We created 2 small random samples, so we do not expect to see any drift here."
      ],
      "metadata": {
        "id": "Vth7ZtZGzniE"
      }
    },
    {
      "cell_type": "code",
      "source": [
        "data_drift_dashboard = Dashboard(tabs=[DataDriftTab()])\n",
        "data_drift_dashboard.calculate(df.sample(30000, random_state=0), \n",
        "                               df.sample(30000, random_state=10), column_mapping=column_mapping)\n",
        "data_drift_dashboard.show()"
      ],
      "metadata": {
        "id": "P9OJNB69eJJU"
      },
      "execution_count": null,
      "outputs": []
    },
    {
      "cell_type": "markdown",
      "source": [
        "### data shifted"
      ],
      "metadata": {
        "id": "nvjSRab5fa2O"
      }
    },
    {
      "cell_type": "markdown",
      "source": [
        "We split data in 2 samples by relationship status, so we do expect to see some drift here."
      ],
      "metadata": {
        "id": "xER2U9MFzy9g"
      }
    },
    {
      "cell_type": "code",
      "source": [
        "data_drift_dashboard = Dashboard(tabs=[DataDriftTab()])\n",
        "data_drift_dashboard.calculate(df[df.relationship.isin(['Husband', 'Wife'])].sample(30000, random_state=0, replace=True), \n",
        "                               df[~df.relationship.isin(['Husband', 'Wife'])].sample(30000, random_state=10, replace=True), column_mapping=column_mapping)\n",
        "data_drift_dashboard.show()"
      ],
      "metadata": {
        "id": "x25KY4k1eJTI"
      },
      "execution_count": null,
      "outputs": []
    },
    {
      "cell_type": "code",
      "source": [
        ""
      ],
      "metadata": {
        "id": "eh9_aL-yfl57"
      },
      "execution_count": null,
      "outputs": []
    }
  ]
}