{
 "cells": [
  {
   "cell_type": "markdown",
   "id": "7f1156e3",
   "metadata": {},
   "source": [
    "# Automatic Tests Generation"
   ]
  },
  {
   "cell_type": "code",
   "execution_count": null,
   "id": "78eaaced",
   "metadata": {},
   "outputs": [],
   "source": [
    "try:\n",
    "    import evidently\n",
    "except:\n",
    "    !npm install -g yarn\n",
    "    !pip install git+https://github.com/evidentlyai/evidently.git"
   ]
  },
  {
   "cell_type": "code",
   "execution_count": null,
   "id": "ce283615",
   "metadata": {},
   "outputs": [],
   "source": [
    "import numpy as np\n",
    "from sklearn.datasets import fetch_openml\n",
    "\n",
    "from evidently.tests import TestColumnQuantile, TestColumnValueMin, TestColumnShareOfMissingValues\n",
    "from evidently.test_suite import TestSuite\n",
    "from evidently.tests.base_test import generate_column_tests"
   ]
  },
  {
   "cell_type": "code",
   "execution_count": null,
   "id": "5a4b7648",
   "metadata": {},
   "outputs": [],
   "source": [
    "#datasets generation \n",
    "data = fetch_openml(name='adult', version=2, as_frame='auto')\n",
    "\n",
    "data.frame['target'] = data.frame['education-num']\n",
    "data.frame['preds'] = data.frame['education-num'].values + np.random.normal(0, 6, data.frame.shape[0])\n",
    "\n",
    "reference_data = data.frame[:20000]\n",
    "current_data = data.frame[20000:]"
   ]
  },
  {
   "cell_type": "markdown",
   "id": "e1dba583",
   "metadata": {},
   "source": [
    "## Multiple tests with list comprehention "
   ]
  },
  {
   "cell_type": "code",
   "execution_count": null,
   "id": "35d5c6b1",
   "metadata": {},
   "outputs": [],
   "source": [
    "suite = TestSuite(tests=[\n",
    "    TestColumnQuantile(column_name=\"education-num\", quantile=quantile) for quantile in [0.5, 0.9, 0.99]\n",
    "])\n",
    "\n",
    "suite.run(current_data=current_data, reference_data=reference_data)\n",
    "suite"
   ]
  },
  {
   "cell_type": "code",
   "execution_count": null,
   "id": "e499483a",
   "metadata": {},
   "outputs": [],
   "source": [
    "suite = TestSuite(tests=[\n",
    "    TestColumnValueMin(column_name=column_name, gt=0) for column_name in [\"age\", \"fnlwgt\", \"education-num\"]\n",
    "])\n",
    "\n",
    "suite.run(current_data=current_data, reference_data=reference_data)\n",
    "suite"
   ]
  },
  {
   "cell_type": "markdown",
   "id": "bed5f516",
   "metadata": {},
   "source": [
    "## Multiple tests with column test generator"
   ]
  },
  {
   "cell_type": "markdown",
   "id": "5c8daa20",
   "metadata": {},
   "source": [
    "By default, generate_column_tests generates tests with default parameters for all columns in the dataframe"
   ]
  },
  {
   "cell_type": "code",
   "execution_count": null,
   "id": "76f6c3bf",
   "metadata": {},
   "outputs": [],
   "source": [
    "suite = TestSuite(tests=[generate_column_tests(TestColumnShareOfMissingValues)])\n",
    "suite.run(current_data=current_data, reference_data=reference_data)\n",
    "suite"
   ]
  },
  {
   "cell_type": "markdown",
   "id": "d9606d28",
   "metadata": {},
   "source": [
    "### Passing parameters to generate_column_tests"
   ]
  },
  {
   "cell_type": "code",
   "execution_count": null,
   "id": "ee479e84",
   "metadata": {},
   "outputs": [],
   "source": [
    "suite = TestSuite(tests=[generate_column_tests(TestColumnShareOfMissingValues, columns=\"all\", parameters={\"lt\": 0.5})])\n",
    "suite.run(current_data=current_data, reference_data=reference_data)\n",
    "suite"
   ]
  },
  {
   "cell_type": "markdown",
   "id": "cab35468",
   "metadata": {},
   "source": [
    "### Generate tests for different feature subsets "
   ]
  },
  {
   "cell_type": "code",
   "execution_count": null,
   "id": "fd349a9b",
   "metadata": {},
   "outputs": [],
   "source": [
    "suite = TestSuite(tests=[generate_column_tests(TestColumnShareOfMissingValues, columns=\"all\", parameters={\"lt\": 0.5})])\n",
    "suite.run(current_data=current_data, reference_data=reference_data)\n",
    "suite"
   ]
  },
  {
   "cell_type": "code",
   "execution_count": null,
   "id": "1d601e19",
   "metadata": {},
   "outputs": [],
   "source": [
    "suite = TestSuite(tests=[generate_column_tests(TestColumnValueMin, columns=\"num\")])\n",
    "suite.run(current_data=current_data, reference_data=reference_data)\n",
    "suite"
   ]
  },
  {
   "cell_type": "code",
   "execution_count": null,
   "id": "97693e28",
   "metadata": {},
   "outputs": [],
   "source": [
    "suite = TestSuite(tests=[generate_column_tests(TestColumnShareOfMissingValues, columns=\"cat\", parameters={\"lt\": 0.1})])\n",
    "suite.run(current_data=current_data, reference_data=reference_data)\n",
    "suite"
   ]
  },
  {
   "cell_type": "markdown",
   "id": "4a27b0f8",
   "metadata": {},
   "source": [
    "### Generate tests for a custom colums list "
   ]
  },
  {
   "cell_type": "code",
   "execution_count": null,
   "id": "b2c3c731",
   "metadata": {},
   "outputs": [],
   "source": [
    "suite = TestSuite(tests=[generate_column_tests(TestColumnValueMin, columns=[\"age\", \"fnlwgt\", \"education-num\"], \n",
    "                                               parameters={\"gt\": 0})])\n",
    "suite.run(current_data=current_data, reference_data=reference_data)\n",
    "suite"
   ]
  },
  {
   "cell_type": "code",
   "execution_count": null,
   "id": "afa29d93",
   "metadata": {},
   "outputs": [],
   "source": []
  }
 ],
 "metadata": {
  "kernelspec": {
   "display_name": "Python 3 (ipykernel)",
   "language": "python",
   "name": "python3"
  },
  "language_info": {
   "codemirror_mode": {
    "name": "ipython",
    "version": 3
   },
   "file_extension": ".py",
   "mimetype": "text/x-python",
   "name": "python",
   "nbconvert_exporter": "python",
   "pygments_lexer": "ipython3",
   "version": "3.8.13"
  }
 },
 "nbformat": 4,
 "nbformat_minor": 5
}
